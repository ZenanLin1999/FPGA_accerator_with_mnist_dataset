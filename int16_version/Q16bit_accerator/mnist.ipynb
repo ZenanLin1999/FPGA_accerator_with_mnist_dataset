{
 "cells": [
  {
   "cell_type": "code",
   "execution_count": 1,
   "metadata": {},
   "outputs": [
    {
     "data": {
      "application/javascript": [
       "\n",
       "require(['notebook/js/codecell'], function(codecell) {\n",
       "  codecell.CodeCell.options_default.highlight_modes[\n",
       "      'magic_text/x-csrc'] = {'reg':[/^%%microblaze/]};\n",
       "  Jupyter.notebook.events.one('kernel_ready.Kernel', function(){\n",
       "      Jupyter.notebook.get_cells().map(function(cell){\n",
       "          if (cell.cell_type == 'code'){ cell.auto_highlight(); } }) ;\n",
       "  });\n",
       "});\n"
      ]
     },
     "metadata": {},
     "output_type": "display_data"
    }
   ],
   "source": [
    "from driver import *\n",
    "from MNIST_LARGE_cfg import *\n",
    "from pynq import Overlay\n",
    "import numpy as np\n",
    "from pynq import Xlnk\n",
    "import time\n",
    "import cv2\n",
    "import matplotlib.pyplot as plt"
   ]
  },
  {
   "cell_type": "code",
   "execution_count": 2,
   "metadata": {},
   "outputs": [],
   "source": [
    "ol=Overlay(\"pool_stream.bit\")\n",
    "ol.download();\n",
    "dma=ol.axi_dma_0\n",
    "pool=ol.pool_0\n",
    "conv=ol.Conv_0"
   ]
  },
  {
   "cell_type": "code",
   "execution_count": 3,
   "metadata": {},
   "outputs": [],
   "source": [
    "xlnk=Xlnk()\n",
    "image=xlnk.cma_array(shape=(1,28,28,K),cacheable=0,dtype=np.int16)\n",
    "W_conv1=xlnk.cma_array(shape=(32,3,3,1,K),cacheable=0,dtype=np.int16)\n",
    "h_conv1=xlnk.cma_array(shape=(4,28,28,K),cacheable=0,dtype=np.int16)\n",
    "h_pool1=xlnk.cma_array(shape=(4,7,7,K),cacheable=0,dtype=np.int16)\n",
    "W_fc1=xlnk.cma_array(shape=(256,7,7,4,K),cacheable=0,dtype=np.int16)\n",
    "h_fc1=xlnk.cma_array(shape=(32,1,1,K),cacheable=0,dtype=np.int16)\n",
    "W_fc2=xlnk.cma_array(shape=(10,1,1,32,K),cacheable=0,dtype=np.int16)\n",
    "h_fc2=xlnk.cma_array(shape=(2,1,1,K),cacheable=0,dtype=np.int16)"
   ]
  },
  {
   "cell_type": "code",
   "execution_count": 4,
   "metadata": {},
   "outputs": [],
   "source": [
    "Load_Weight_From_File(W_conv1,\"record/W_conv1.bin\")\n",
    "Load_Weight_From_File(W_fc1,\"record/W_fc1.bin\")\n",
    "Load_Weight_From_File(W_fc2,\"record/W_fc2.bin\")"
   ]
  },
  {
   "cell_type": "markdown",
   "metadata": {},
   "source": [
    "cap=cv2.VideoCapture(0)\n",
    "cap.set(cv2.CAP_PROP_FRAME_WIDTH,640)\n",
    "cap.set(cv2.CAP_PROP_FRAME_HEIGHT,480)\n",
    "print(\"capture state: \"+ str(cap.isOpened()))"
   ]
  },
  {
   "cell_type": "markdown",
   "metadata": {},
   "source": [
    "ret, frame=cap.read();ret, frame=cap.read();ret, frame=cap.read();ret, frame=cap.read();ret, frame=cap.read();"
   ]
  },
  {
   "cell_type": "markdown",
   "metadata": {},
   "source": [
    "np.shape(frame)"
   ]
  },
  {
   "cell_type": "markdown",
   "metadata": {},
   "source": [
    "frame_300x300=frame[90:390,170:470]\n",
    "frame_28x28=255-cv2.resize(frame_300x300,(28,28),interpolation=cv2.INTER_NEAREST)\n",
    "img_gray=cv2.cvtColor(frame_28x28,cv2.COLOR_RGB2GRAY)\n",
    "plt.imshow(cv2.merge([img_gray,img_gray,img_gray]))\n",
    "plt.show()"
   ]
  },
  {
   "cell_type": "markdown",
   "metadata": {},
   "source": [
    "#print((img_gray/255*pow(2,PTR_IMG)))\n",
    "img_gray=(img_gray/255*pow(2,PTR_IMG))\n",
    "print(img_gray.max())"
   ]
  },
  {
   "cell_type": "code",
   "execution_count": 2,
   "metadata": {},
   "outputs": [
    {
     "data": {
      "image/png": "[encoded data removed]",
      "text/plain": [
       "<matplotlib.figure.Figure at 0xb43178d0>"
      ]
     },
     "metadata": {},
     "output_type": "display_data"
    }
   ],
   "source": [
    "test_pic=100\n",
    "img_gray=np.zeros((28,28))\n",
    "with open(\"record/t10k-images.idx3-ubyte\",'rb') as fp:\n",
    "    dat=fp.read(16+28*28*test_pic)\n",
    "    for i in range(28):\n",
    "        for j in range(28):\n",
    "            dat=fp.read(1)\n",
    "            a=struct.unpack(\"B\",dat)\n",
    "            img_gray[i][j]=a[0]\n",
    "            #print(a[0])\n",
    "img_gray=img_gray.astype(np.uint8)\n",
    "# for i in range(28):\n",
    "#     for j in range(28):\n",
    "#         print(\"%4d\"%img_gray[i][j],end='')\n",
    "#     print('')\n",
    "plt.imshow(cv2.merge([img_gray,img_gray,img_gray]))\n",
    "plt.show()"
   ]
  },
  {
   "cell_type": "code",
   "execution_count": 10,
   "metadata": {},
   "outputs": [],
   "source": [
    "for i in range(np.shape(img_gray)[0]):\n",
    "    for j in range(np.shape(img_gray)[1]):\n",
    "        image[0][i][j][0]=int((img_gray[i][j]/255)*(2**PTR_IMG));"
   ]
  },
  {
   "cell_type": "code",
   "execution_count": 11,
   "metadata": {},
   "outputs": [
    {
     "name": "stdout",
     "output_type": "stream",
     "text": [
      "Hardware run time=0.03557157516479492 s\n"
     ]
    }
   ],
   "source": [
    "start=time.time()\n",
    "Run_Conv(conv,1,32,3,3,1,1,1,0,image,PTR_IMG,W_conv1,PTR_W_CONV1,h_conv1,PTR_H_CONV1)\n",
    "#Run_Pool_Soft(32,4,4,h_conv1,h_pool1)\n",
    "Run_Pool(pool,dma,32,4,4,h_conv1,h_pool1)\n",
    "Run_Conv(conv,32,256,7,7,1,1,0,0,h_pool1,PTR_H_POOL1,W_fc1,PTR_W_FC1,h_fc1,PTR_H_FC1)\n",
    "Run_Conv(conv,256,10,1,1,1,1,0,0,h_fc1,PTR_H_FC1,W_fc2,PTR_W_FC2,h_fc2,PTR_H_FC2)\n",
    "end=time.time()\n",
    "print(\"Hardware run time=%s s\"%(end-start))"
   ]
  },
  {
   "cell_type": "code",
   "execution_count": 12,
   "metadata": {
    "scrolled": false
   },
   "outputs": [
    {
     "name": "stdout",
     "output_type": "stream",
     "text": [
      "predict num is 6\n"
     ]
    }
   ],
   "source": [
    "max=-32768\n",
    "num=0\n",
    "for i in range(10):\n",
    "    if(h_fc2[i//K][0][0][i%K]>max):\n",
    "        max=h_fc2[i//K][0][0][i%K]\n",
    "        num=i;\n",
    "print(\"predict num is %d\"%num);"
   ]
  },
  {
   "cell_type": "code",
   "execution_count": null,
   "metadata": {},
   "outputs": [],
   "source": []
  }
 ],
 "metadata": {
  "kernelspec": {
   "display_name": "Python 3",
   "language": "python",
   "name": "python3"
  },
  "language_info": {
   "codemirror_mode": {
    "name": "ipython",
    "version": 3
   },
   "file_extension": ".py",
   "mimetype": "text/x-python",
   "name": "python",
   "nbconvert_exporter": "python",
   "pygments_lexer": "ipython3",
   "version": "3.6.5"
  }
 },
 "nbformat": 4,
 "nbformat_minor": 2
}
