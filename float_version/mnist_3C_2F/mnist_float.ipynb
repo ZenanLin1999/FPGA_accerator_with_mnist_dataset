{
 "cells": [
  {
   "cell_type": "code",
   "execution_count": 1,
   "metadata": {},
   "outputs": [
    {
     "data": {
      "application/javascript": [
       "\n",
       "require(['notebook/js/codecell'], function(codecell) {\n",
       "  codecell.CodeCell.options_default.highlight_modes[\n",
       "      'magic_text/x-csrc'] = {'reg':[/^%%microblaze/]};\n",
       "  Jupyter.notebook.events.one('kernel_ready.Kernel', function(){\n",
       "      Jupyter.notebook.get_cells().map(function(cell){\n",
       "          if (cell.cell_type == 'code'){ cell.auto_highlight(); } }) ;\n",
       "  });\n",
       "});\n"
      ]
     },
     "metadata": {},
     "output_type": "display_data"
    }
   ],
   "source": [
    "import time\n",
    "from pynq import Overlay\n",
    "import numpy as np\n",
    "from pynq import Xlnk\n",
    "import struct\n",
    "from scipy.misc import imread\n",
    "import cv2\n",
    "%matplotlib inline\n",
    "import matplotlib.pyplot as plt"
   ]
  },
  {
   "cell_type": "code",
   "execution_count": 2,
   "metadata": {},
   "outputs": [],
   "source": [
    "def readbinfile(filename,size):\n",
    "    f = open(filename, \"rb\")\n",
    "    z=[]\n",
    "    for j in range(size):\n",
    "        data = f.read(4)\n",
    "        data_float = struct.unpack(\"f\", data)[0]\n",
    "        z.append(data_float)\n",
    "    f.close()\n",
    "    z = np.array(z)\n",
    "    return z\n",
    "\n",
    "def RunConv(conv,Kx,Ky,Sx,Sy,mode,relu_en,feature_in,W,bias,feature_out):\n",
    "    conv.write(0x10,feature_in.shape[2]);\n",
    "    conv.write(0x18,feature_in.shape[0]);\n",
    "    conv.write(0x20,feature_in.shape[1]);\n",
    "    conv.write(0x28,feature_out.shape[2]);\n",
    "    conv.write(0x30,Kx);\n",
    "    conv.write(0x38,Ky);\n",
    "    conv.write(0x40,Sx);\n",
    "    conv.write(0x48,Sy);\n",
    "    conv.write(0x50,mode);\n",
    "    conv.write(0x58,relu_en);\n",
    "    conv.write(0x60,feature_in.physical_address);\n",
    "    conv.write(0x68,W.physical_address);\n",
    "    conv.write(0x70,bias.physical_address);\n",
    "    conv.write(0x78,feature_out.physical_address);\n",
    "    conv.write(0, (conv.read(0)&0x80)|0x01 );\n",
    "    tp=conv.read(0)\n",
    "    while not ((tp>>1)&0x1):\n",
    "        tp=conv.read(0);\n",
    "    #print(tp);\n",
    "\n",
    "def RunPool(pool,Kx,Ky,mode,feature_in,feature_out):\n",
    "    pool.write(0x10,feature_in.shape[2]);\n",
    "    pool.write(0x18,feature_in.shape[0]);\n",
    "    pool.write(0x20,feature_in.shape[1]);\n",
    "    pool.write(0x28,Kx);\n",
    "    pool.write(0x30,Ky);\n",
    "    pool.write(0x38,mode);\n",
    "    pool.write(0x40,feature_in.physical_address);\n",
    "    pool.write(0x48,feature_out.physical_address);\n",
    "    pool.write(0, (pool.read(0)&0x80)|0x01 );\n",
    "    while not ((pool.read(0)>>1)&0x1):\n",
    "        pass;"
   ]
  },
  {
   "cell_type": "code",
   "execution_count": 3,
   "metadata": {},
   "outputs": [],
   "source": [
    "#Conv1\n",
    "IN_WIDTH1=28\n",
    "IN_HEIGHT1=28\n",
    "IN_CH1=1\n",
    "\n",
    "KERNEL_WIDTH1=3\n",
    "KERNEL_HEIGHT1=3\n",
    "X_STRIDE1=1\n",
    "Y_STRIDE1=1\n",
    "\n",
    "RELU_EN1=1\n",
    "MODE1=1  #0:VALID, 1:SAME\n",
    "if(MODE1):\n",
    "    X_PADDING1=int((KERNEL_WIDTH1-1)/2)\n",
    "    Y_PADDING1=int((KERNEL_HEIGHT1-1)/2)\n",
    "else:\n",
    "    X_PADDING1=0\n",
    "    Y_PADDING1=0\n",
    "\n",
    "OUT_CH1=32\n",
    "OUT_WIDTH1=int((IN_WIDTH1+2*X_PADDING1-KERNEL_WIDTH1)/X_STRIDE1+1)\n",
    "OUT_HEIGHT1=int((IN_HEIGHT1+2*Y_PADDING1-KERNEL_HEIGHT1)/Y_STRIDE1+1)\n",
    "\n",
    "\n",
    "#Pool1\n",
    "MODE11=2  #mode: 0:MEAN, 1:MIN, 2:MAX\n",
    "IN_WIDTH11=OUT_WIDTH1\n",
    "IN_HEIGHT11=OUT_HEIGHT1\n",
    "IN_CH11=OUT_CH1\n",
    "\n",
    "KERNEL_WIDTH11=2\n",
    "KERNEL_HEIGHT11=2\n",
    "\n",
    "OUT_CH11=IN_CH11\n",
    "OUT_WIDTH11=int(IN_WIDTH11/KERNEL_WIDTH11)\n",
    "OUT_HEIGHT11=int(IN_HEIGHT11/KERNEL_HEIGHT11)\n",
    "\n",
    "#Conv2\n",
    "IN_WIDTH2=OUT_WIDTH11\n",
    "IN_HEIGHT2=OUT_HEIGHT11\n",
    "IN_CH2=OUT_CH11\n",
    "\n",
    "KERNEL_WIDTH2=3\n",
    "KERNEL_HEIGHT2=3\n",
    "X_STRIDE2=1\n",
    "Y_STRIDE2=1\n",
    "\n",
    "RELU_EN2=1\n",
    "MODE2=1  #0:VALID, 1:SAME\n",
    "if(MODE2):\n",
    "    X_PADDING2=int((KERNEL_WIDTH2-1)/2)\n",
    "    Y_PADDING2=int((KERNEL_HEIGHT2-1)/2)\n",
    "else:\n",
    "    X_PADDING2=0\n",
    "    Y_PADDING2=0\n",
    "\n",
    "OUT_CH2=64\n",
    "OUT_WIDTH2=int((IN_WIDTH2+2*X_PADDING2-KERNEL_WIDTH2)/X_STRIDE2+1)\n",
    "OUT_HEIGHT2=int((IN_HEIGHT2+2*Y_PADDING2-KERNEL_HEIGHT2)/Y_STRIDE2+1)\n",
    "\n",
    "#Pool2\n",
    "MODE21=2  #mode: 0:MEAN, 1:MIN, 2:MAX\n",
    "IN_WIDTH21=OUT_WIDTH2\n",
    "IN_HEIGHT21=OUT_HEIGHT2\n",
    "IN_CH21=OUT_CH2\n",
    "\n",
    "KERNEL_WIDTH21=2\n",
    "KERNEL_HEIGHT21=2\n",
    "\n",
    "OUT_CH21=IN_CH21\n",
    "OUT_WIDTH21=int(IN_WIDTH21/KERNEL_WIDTH21)\n",
    "OUT_HEIGHT21=int(IN_HEIGHT21/KERNEL_HEIGHT21)\n",
    "\n",
    "\n",
    "#Conv3\n",
    "IN_WIDTH3=OUT_WIDTH21\n",
    "IN_HEIGHT3=OUT_HEIGHT21\n",
    "IN_CH3=OUT_CH21\n",
    "\n",
    "KERNEL_WIDTH3=3\n",
    "KERNEL_HEIGHT3=3\n",
    "X_STRIDE3=1\n",
    "Y_STRIDE3=1\n",
    "\n",
    "RELU_EN3=1\n",
    "MODE3=1  #0:VALID, 1:SAME\n",
    "if(MODE3):\n",
    "    X_PADDING3=int((KERNEL_WIDTH2-1)/2)\n",
    "    Y_PADDING3=int((KERNEL_HEIGHT2-1)/2)\n",
    "else:\n",
    "    X_PADDING3=0\n",
    "    Y_PADDING3=0\n",
    "\n",
    "OUT_CH3=64\n",
    "OUT_WIDTH3=int((IN_WIDTH3+2*X_PADDING3-KERNEL_WIDTH3)/X_STRIDE3+1)\n",
    "OUT_HEIGHT3=int((IN_HEIGHT3+2*Y_PADDING3-KERNEL_HEIGHT3)/Y_STRIDE3+1)\n",
    "\n",
    "#Pool3\n",
    "MODE31=2  #mode: 0:MEAN, 1:MIN, 2:MAX\n",
    "IN_WIDTH31=OUT_WIDTH3\n",
    "IN_HEIGHT31=OUT_HEIGHT3\n",
    "IN_CH31=OUT_CH3\n",
    "\n",
    "KERNEL_WIDTH31=2\n",
    "KERNEL_HEIGHT31=2\n",
    "\n",
    "OUT_CH31=IN_CH31\n",
    "OUT_WIDTH31=int(IN_WIDTH31/KERNEL_WIDTH31)\n",
    "OUT_HEIGHT31=int(IN_HEIGHT31/KERNEL_HEIGHT31)\n",
    "\n",
    "#Fc1\n",
    "IN_WIDTH4=OUT_WIDTH31\n",
    "IN_HEIGHT4=OUT_HEIGHT31\n",
    "IN_CH4=OUT_CH31\n",
    "\n",
    "KERNEL_WIDTH4=3\n",
    "KERNEL_HEIGHT4=3\n",
    "X_STRIDE4=1\n",
    "Y_STRIDE4=1\n",
    "\n",
    "RELU_EN4=1\n",
    "MODE4=0  #0:VALID, 1:SAME\n",
    "if(MODE4):\n",
    "    X_PADDING4=int((KERNEL_WIDTH4-1/2))\n",
    "    Y_PADDING4=int((KERNEL_HEIGHT4-1)/2)\n",
    "else:\n",
    "    X_PADDING4=0\n",
    "    Y_PADDING4=0\n",
    "\n",
    "OUT_CH4=128\n",
    "OUT_WIDTH4=int((IN_WIDTH4+2*X_PADDING4-KERNEL_WIDTH4)/X_STRIDE4+1)\n",
    "OUT_HEIGHT4=int((IN_HEIGHT4+2*Y_PADDING4-KERNEL_HEIGHT4)/Y_STRIDE4+1)\n",
    "\n",
    "#Fc2\n",
    "IN_WIDTH5=OUT_WIDTH4\n",
    "IN_HEIGHT5=OUT_HEIGHT4\n",
    "IN_CH5=OUT_CH4\n",
    "\n",
    "KERNEL_WIDTH5=1\n",
    "KERNEL_HEIGHT5=1\n",
    "X_STRIDE5=1\n",
    "Y_STRIDE5=1\n",
    "\n",
    "RELU_EN5=1\n",
    "MODE5=0  #0:VALID, 1:SAME\n",
    "if(MODE5):\n",
    "    X_PADDING5=int((KERNEL_WIDTH5-1/2))\n",
    "    Y_PADDING5=int((KERNEL_HEIGHT5-1)/2)\n",
    "else:\n",
    "    X_PADDING5=0\n",
    "    Y_PADDING5=0\n",
    "\n",
    "OUT_CH5=10\n",
    "OUT_WIDTH5=int((IN_WIDTH5+2*X_PADDING5-KERNEL_WIDTH5)/X_STRIDE5+1)\n",
    "OUT_HEIGHT5=int((IN_HEIGHT5+2*Y_PADDING5-KERNEL_HEIGHT5)/Y_STRIDE5+1)"
   ]
  },
  {
   "cell_type": "code",
   "execution_count": 4,
   "metadata": {},
   "outputs": [
    {
     "name": "stdout",
     "output_type": "stream",
     "text": [
      "Overlay download finish\n"
     ]
    }
   ],
   "source": [
    "ol=Overlay(\"ai.bit\")\n",
    "ol.ip_dict\n",
    "ol.download()\n",
    "conv=ol.Conv_0\n",
    "pool=ol.Pool_0\n",
    "print(\"Overlay download finish\");"
   ]
  },
  {
   "cell_type": "code",
   "execution_count": 5,
   "metadata": {},
   "outputs": [],
   "source": [
    "xlnk=Xlnk();\n",
    "#input image\n",
    "image=xlnk.cma_array(shape=(IN_HEIGHT1,IN_WIDTH1,IN_CH1),cacheable=0,dtype=np.float32)\n",
    "\n",
    "#conv1\n",
    "W_conv1=xlnk.cma_array(shape=(KERNEL_HEIGHT1,KERNEL_WIDTH1,IN_CH1,OUT_CH1),cacheable=0,dtype=np.float32)\n",
    "b_conv1=xlnk.cma_array(shape=(OUT_CH1),cacheable=0,dtype=np.float32)\n",
    "h_conv1=xlnk.cma_array(shape=(OUT_HEIGHT1,OUT_WIDTH1,OUT_CH1),cacheable=0,dtype=np.float32)\n",
    "h_pool1=xlnk.cma_array(shape=(OUT_HEIGHT11,OUT_WIDTH11,OUT_CH11),cacheable=0,dtype=np.float32)\n",
    "\n",
    "#conv2\n",
    "W_conv2=xlnk.cma_array(shape=(KERNEL_HEIGHT2,KERNEL_WIDTH2,IN_CH2,OUT_CH2),cacheable=0,dtype=np.float32)\n",
    "b_conv2=xlnk.cma_array(shape=(OUT_CH2),cacheable=0,dtype=np.float32)\n",
    "h_conv2=xlnk.cma_array(shape=(OUT_HEIGHT2,OUT_WIDTH2,OUT_CH2),cacheable=0,dtype=np.float32)\n",
    "h_pool2=xlnk.cma_array(shape=(OUT_HEIGHT21,OUT_WIDTH21,OUT_CH21),cacheable=0,dtype=np.float32)\n",
    "\n",
    "#conv3\n",
    "W_conv3=xlnk.cma_array(shape=(KERNEL_HEIGHT3,KERNEL_WIDTH3,IN_CH3,OUT_CH3),cacheable=0,dtype=np.float32)\n",
    "b_conv3=xlnk.cma_array(shape=(OUT_CH3),cacheable=0,dtype=np.float32)\n",
    "h_conv3=xlnk.cma_array(shape=(OUT_HEIGHT3,OUT_WIDTH3,OUT_CH3),cacheable=0,dtype=np.float32)\n",
    "h_pool3=xlnk.cma_array(shape=(OUT_HEIGHT31,OUT_WIDTH31,OUT_CH31),cacheable=0,dtype=np.float32)\n",
    "\n",
    "#fc1\n",
    "W_fc1=xlnk.cma_array(shape=(KERNEL_HEIGHT4, KERNEL_WIDTH4, IN_CH4, OUT_CH4),cacheable=0,dtype=np.float32)\n",
    "b_fc1=xlnk.cma_array(shape=(OUT_CH4),cacheable=0,dtype=np.float32)\n",
    "h_fc1=xlnk.cma_array(shape=(OUT_HEIGHT4,OUT_WIDTH4,OUT_CH4),cacheable=0,dtype=np.float32)\n",
    "\n",
    "#fc2\n",
    "W_fc2=xlnk.cma_array(shape=(KERNEL_HEIGHT5, KERNEL_WIDTH5, IN_CH5, OUT_CH5),cacheable=0,dtype=np.float32)\n",
    "b_fc2=xlnk.cma_array(shape=(OUT_CH5),cacheable=0,dtype=np.float32)\n",
    "h_fc2=xlnk.cma_array(shape=(OUT_HEIGHT5,OUT_WIDTH5,OUT_CH5),cacheable=0,dtype=np.float32)"
   ]
  },
  {
   "cell_type": "code",
   "execution_count": 6,
   "metadata": {},
   "outputs": [
    {
     "name": "stdout",
     "output_type": "stream",
     "text": [
      "Finish initial\n"
     ]
    }
   ],
   "source": [
    "#Initialize W, bias\n",
    "\n",
    "w_conv1=readbinfile(\"/home/xilinx/jupyter_notebooks/mnist_3C_2F/data/conv1_0_weight_t.bin\",KERNEL_HEIGHT1*KERNEL_WIDTH1*IN_CH1*OUT_CH1)\n",
    "w_conv1=w_conv1.reshape((KERNEL_HEIGHT1,KERNEL_WIDTH1,IN_CH1,OUT_CH1))\n",
    "for i in range(KERNEL_HEIGHT1):\n",
    "    for j in range(KERNEL_WIDTH1):\n",
    "        for k in range(IN_CH1):\n",
    "            for l in range(OUT_CH1):\n",
    "                W_conv1[i][j][k][l]=w_conv1[i][j][k][l]\n",
    "B_conv1=readbinfile(\"/home/xilinx/jupyter_notebooks/mnist_3C_2F/data/conv1_0_bias_t.bin\",OUT_CH1)\n",
    "for i in range(OUT_CH1):\n",
    "    b_conv1[i]=B_conv1[i]\n",
    "\n",
    "w_conv2=readbinfile(\"/home/xilinx/jupyter_notebooks/mnist_3C_2F/data/conv2_0_weight_t.bin\",KERNEL_HEIGHT2*KERNEL_WIDTH2*IN_CH2*OUT_CH2)\n",
    "w_conv2=w_conv2.reshape((KERNEL_HEIGHT2,KERNEL_WIDTH2,IN_CH2,OUT_CH2))\n",
    "for i in range(KERNEL_HEIGHT2):\n",
    "    for j in range(KERNEL_WIDTH2):\n",
    "        for k in range(IN_CH2):\n",
    "            for l in range(OUT_CH2):\n",
    "                W_conv2[i][j][k][l]=w_conv2[i][j][k][l]\n",
    "B_conv2=readbinfile(\"/home/xilinx/jupyter_notebooks/mnist_3C_2F/data/conv2_0_bias_t.bin\",OUT_CH2)\n",
    "for i in range(OUT_CH2):\n",
    "    b_conv2[i]=B_conv2[i]\n",
    "\n",
    "w_conv3=readbinfile(\"/home/xilinx/jupyter_notebooks/mnist_3C_2F/data/conv3_0_weight_t.bin\",KERNEL_HEIGHT3*KERNEL_WIDTH3*IN_CH3*OUT_CH3)\n",
    "w_conv3=w_conv3.reshape((KERNEL_HEIGHT3,KERNEL_WIDTH3,IN_CH3,OUT_CH3))\n",
    "for i in range(KERNEL_HEIGHT3):\n",
    "    for j in range(KERNEL_WIDTH3):\n",
    "        for k in range(IN_CH3):\n",
    "            for l in range(OUT_CH3):\n",
    "                W_conv3[i][j][k][l]=w_conv3[i][j][k][l]\n",
    "B_conv3=readbinfile(\"/home/xilinx/jupyter_notebooks/mnist_3C_2F/data/conv3_0_bias_t.bin\",OUT_CH3)\n",
    "for i in range(OUT_CH3):\n",
    "    b_conv3[i]=B_conv3[i]\n",
    "    \n",
    "w_fc1=readbinfile(\"/home/xilinx/jupyter_notebooks/mnist_3C_2F/data/dense1_0_weight_t.bin\",KERNEL_HEIGHT4*KERNEL_WIDTH4*IN_CH4*OUT_CH4)\n",
    "w_fc1=w_fc1.reshape((KERNEL_HEIGHT4,KERNEL_WIDTH4,IN_CH4,OUT_CH4))\n",
    "for i in range(KERNEL_HEIGHT4):\n",
    "    for j in range(KERNEL_WIDTH4):\n",
    "        for k in range(IN_CH4):\n",
    "            for l in range(OUT_CH4):\n",
    "                W_fc1[i][j][k][l]=w_fc1[i][j][k][l]\n",
    "B_fc1=readbinfile(\"/home/xilinx/jupyter_notebooks/mnist_3C_2F/data/dense1_0_bias_t.bin\",OUT_CH4)\n",
    "for i in range(OUT_CH4):\n",
    "    b_fc1[i]=B_fc1[i]\n",
    "\n",
    "w_fc2=readbinfile(\"/home/xilinx/jupyter_notebooks/mnist_3C_2F/data/dense2_0_weight_t.bin\",KERNEL_HEIGHT5*KERNEL_WIDTH5*IN_CH5*OUT_CH5)\n",
    "w_fc2=w_fc2.reshape((KERNEL_HEIGHT5,KERNEL_WIDTH5,IN_CH5,OUT_CH5))\n",
    "for i in range(KERNEL_HEIGHT5):\n",
    "    for j in range(KERNEL_WIDTH5):\n",
    "        for k in range(IN_CH5):\n",
    "            for l in range(OUT_CH5):\n",
    "                W_fc2[i][j][k][l]=w_fc2[i][j][k][l]\n",
    "B_fc2=readbinfile(\"/home/xilinx/jupyter_notebooks/mnist_3C_2F/data/dense2_0_bias_t.bin\",OUT_CH5)\n",
    "for i in range(OUT_CH5):\n",
    "    b_fc2[i]=B_fc2[i]\n",
    "\n",
    "print(\"Finish initial\")"
   ]
  },
  {
   "cell_type": "code",
   "execution_count": 7,
   "metadata": {},
   "outputs": [
    {
     "name": "stdout",
     "output_type": "stream",
     "text": [
      "Read image\n",
      "Finish reading image\n",
      "Hardware run time=4.9986488819122314 s\n",
      "Hardware run finish\n",
      "The number you write is 0\n"
     ]
    },
    {
     "data": {
      "image/png": "[encoded data removed]",
      "text/plain": [
       "<matplotlib.figure.Figure at 0xa43cb8b0>"
      ]
     },
     "metadata": {},
     "output_type": "display_data"
    },
    {
     "name": "stdout",
     "output_type": "stream",
     "text": [
      "Read image\n",
      "Finish reading image\n",
      "Hardware run time=5.003968715667725 s\n",
      "Hardware run finish\n",
      "The number you write is 1\n"
     ]
    },
    {
     "data": {
      "image/png": "[encoded data removed]",
      "text/plain": [
       "<matplotlib.figure.Figure at 0xa4074f10>"
      ]
     },
     "metadata": {},
     "output_type": "display_data"
    },
    {
     "name": "stdout",
     "output_type": "stream",
     "text": [
      "Read image\n",
      "Finish reading image\n",
      "Hardware run time=5.004502058029175 s\n",
      "Hardware run finish\n",
      "The number you write is 2\n"
     ]
    },
    {
     "data": {
      "image/png": "[encoded data removed]",
      "text/plain": [
       "<matplotlib.figure.Figure at 0xa333ed70>"
      ]
     },
     "metadata": {},
     "output_type": "display_data"
    },
    {
     "name": "stdout",
     "output_type": "stream",
     "text": [
      "Read image\n",
      "Finish reading image\n",
      "Hardware run time=5.003693342208862 s\n",
      "Hardware run finish\n",
      "The number you write is 3\n"
     ]
    },
    {
     "data": {
      "image/png": "[encoded data removed]",
      "text/plain": [
       "<matplotlib.figure.Figure at 0xa404e9b0>"
      ]
     },
     "metadata": {},
     "output_type": "display_data"
    },
    {
     "name": "stdout",
     "output_type": "stream",
     "text": [
      "Read image\n",
      "Finish reading image\n",
      "Hardware run time=5.006304740905762 s\n",
      "Hardware run finish\n",
      "The number you write is 4\n"
     ]
    },
    {
     "data": {
      "image/png": "[encoded data removed]",
      "text/plain": [
       "<matplotlib.figure.Figure at 0xa32d6bd0>"
      ]
     },
     "metadata": {},
     "output_type": "display_data"
    },
    {
     "name": "stdout",
     "output_type": "stream",
     "text": [
      "Read image\n",
      "Finish reading image\n",
      "Hardware run time=4.998209238052368 s\n",
      "Hardware run finish\n",
      "The number you write is 5\n"
     ]
    },
    {
     "data": {
      "image/png": "[encoded data removed]",
      "text/plain": [
       "<matplotlib.figure.Figure at 0xa4001df0>"
      ]
     },
     "metadata": {},
     "output_type": "display_data"
    },
    {
     "name": "stdout",
     "output_type": "stream",
     "text": [
      "Read image\n",
      "Finish reading image\n",
      "Hardware run time=4.997265100479126 s\n",
      "Hardware run finish\n",
      "The number you write is 6\n"
     ]
    },
    {
     "data": {
      "image/png": "[encoded data removed]",
      "text/plain": [
       "<matplotlib.figure.Figure at 0xa40c23d0>"
      ]
     },
     "metadata": {},
     "output_type": "display_data"
    },
    {
     "name": "stdout",
     "output_type": "stream",
     "text": [
      "Read image\n",
      "Finish reading image\n",
      "Hardware run time=5.00068998336792 s\n",
      "Hardware run finish\n",
      "The number you write is 7\n"
     ]
    },
    {
     "data": {
      "image/png": "[encoded data removed]",
      "text/plain": [
       "<matplotlib.figure.Figure at 0xa40b8f90>"
      ]
     },
     "metadata": {},
     "output_type": "display_data"
    },
    {
     "name": "stdout",
     "output_type": "stream",
     "text": [
      "Read image\n",
      "Finish reading image\n",
      "Hardware run time=5.0048441886901855 s\n",
      "Hardware run finish\n",
      "The number you write is 8\n"
     ]
    },
    {
     "data": {
      "image/png": "[encoded data removed]",
      "text/plain": [
       "<matplotlib.figure.Figure at 0xa3fc6ad0>"
      ]
     },
     "metadata": {},
     "output_type": "display_data"
    },
    {
     "name": "stdout",
     "output_type": "stream",
     "text": [
      "Read image\n",
      "Finish reading image\n",
      "Hardware run time=5.000162839889526 s\n",
      "Hardware run finish\n",
      "The number you write is 9\n"
     ]
    },
    {
     "data": {
      "image/png": "[encoded data removed]",
      "text/plain": [
       "<matplotlib.figure.Figure at 0xa3295ab0>"
      ]
     },
     "metadata": {},
     "output_type": "display_data"
    }
   ],
   "source": [
    "for num in range(10): #0~9\n",
    "    start=time.time()\n",
    "    test_pic_path = \"/home/xilinx/jupyter_notebooks/mnist_3C_2F/test_pic/\" + str(num)+\".jpg\"\n",
    "    image1 = cv2.imread(test_pic_path,cv2.IMREAD_GRAYSCALE).astype(np.float32)\n",
    "    print(\"Read image\")\n",
    "    #image1=image1.reshape((IN_HEIGHT1,IN_WIDTH1,IN_CH1))\n",
    "    for i in range(IN_HEIGHT1):\n",
    "        for j in range(IN_WIDTH1):\n",
    "            for k in range(IN_CH1):\n",
    "                image[i][j][k]=((255-image1[i][j])/255-0.1307)/0.3081\n",
    "#                 print(\"\\r\\n\"+str(image[i][j][k]))\n",
    "    print(\"Finish reading image\")\n",
    "    #conv1\n",
    "    RunConv(conv,KERNEL_WIDTH1,KERNEL_HEIGHT1,X_STRIDE1,Y_STRIDE1,MODE1,RELU_EN1,image,W_conv1,b_conv1,h_conv1)\n",
    "    RunPool(pool, KERNEL_WIDTH11, KERNEL_HEIGHT11, MODE11, h_conv1, h_pool1)\n",
    "    # conv2\n",
    "    RunConv(conv, KERNEL_WIDTH2, KERNEL_HEIGHT2, X_STRIDE2, Y_STRIDE2, MODE2, RELU_EN2, h_pool1, W_conv2, b_conv2,\n",
    "            h_conv2)\n",
    "    RunPool(pool, KERNEL_WIDTH21, KERNEL_HEIGHT21, MODE21, h_conv2, h_pool2)\n",
    "    # conv3\n",
    "    RunConv(conv, KERNEL_WIDTH3, KERNEL_HEIGHT3, X_STRIDE3, Y_STRIDE3, MODE3, RELU_EN3, h_pool2, W_conv3, b_conv3,\n",
    "            h_conv3)\n",
    "    RunPool(pool, KERNEL_WIDTH31, KERNEL_HEIGHT31, MODE31, h_conv3, h_pool3)\n",
    "    # fc1\n",
    "    RunConv(conv, KERNEL_WIDTH4, KERNEL_HEIGHT4, X_STRIDE4, Y_STRIDE4, MODE4, RELU_EN4, h_pool3, W_fc1, b_fc1,\n",
    "            h_fc1)\n",
    "    # fc2\n",
    "    RunConv(conv, KERNEL_WIDTH5, KERNEL_HEIGHT5, X_STRIDE5, Y_STRIDE5, MODE5, RELU_EN5, h_fc1, W_fc2, b_fc2,\n",
    "            h_fc2)\n",
    "    \n",
    "    end=time.time()\n",
    "    print(\"Hardware run time=%s s\"%(end-start))\n",
    "    print(\"Hardware run finish\")\n",
    "    MAX = h_fc2[0][0][0]\n",
    "    result=0\n",
    "#     for i in range(0,OUT_CH5):\n",
    "# #         print(str(h_fc2[0][0][i])+\",\")\n",
    "    \n",
    "    for i in range(1,OUT_CH5):\n",
    "        if(h_fc2[0][0][i]>MAX):\n",
    "            MAX=h_fc2[0][0][i]\n",
    "            result=i\n",
    "    print(\"The number you write is \"+str(result))\n",
    "\n",
    "    img=plt.imread(test_pic_path)  #读取文件图片\n",
    "    #print(img.shape)\n",
    "    title = \"Predict num is \"+str(result)\n",
    "    plt.title(title)# 设置字体大小与格式\n",
    "    plt.imshow(img)\n",
    "    plt.show()\n"
   ]
  },
  {
   "cell_type": "code",
   "execution_count": null,
   "metadata": {},
   "outputs": [],
   "source": []
  }
 ],
 "metadata": {
  "kernelspec": {
   "display_name": "Python 3",
   "language": "python",
   "name": "python3"
  },
  "language_info": {
   "codemirror_mode": {
    "name": "ipython",
    "version": 3
   },
   "file_extension": ".py",
   "mimetype": "text/x-python",
   "name": "python",
   "nbconvert_exporter": "python",
   "pygments_lexer": "ipython3",
   "version": "3.6.5"
  }
 },
 "nbformat": 4,
 "nbformat_minor": 2
}
